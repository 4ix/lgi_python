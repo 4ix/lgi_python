{
 "cells": [
  {
   "cell_type": "code",
   "execution_count": 69,
   "metadata": {},
   "outputs": [],
   "source": [
    "class Character:\n",
    "    # 클래스 속성\n",
    "    total_character_cnt = 0\n",
    "\n",
    "    def __init__(self, name, hp, ad):\n",
    "        self.name = name\n",
    "        self.strength = hp\n",
    "        self.attack_damage = ad\n",
    "        print('Character 클래스의 객체 생성 =>', self.name)\n",
    "        Character.total_character_cnt += 1\n",
    "        print('현재 캐릭터 수:',Character.total_character_cnt)\n",
    "\n",
    "    def information(self):\n",
    "        print('이름=>',self.name,'체력=>',self.strength,'공격력=>',self.attack_damage)\n",
    "\n",
    "    def attack(self, target):\n",
    "        print(self.name,'이', target.name, '을 공격합니다.')\n",
    "        target.strength -= self.attack_damage\n",
    "        print('공격 성공!', target.name,'의 체력은',target.strength,'가 되었다!')\n",
    "\n",
    "    def level_up(self):\n",
    "        self.strength *= 1.2\n",
    "        self.attack_damage +=5\n",
    "        print('레벨 업!')"
   ]
  },
  {
   "cell_type": "code",
   "execution_count": 79,
   "metadata": {},
   "outputs": [
    {
     "name": "stdout",
     "output_type": "stream",
     "text": [
      "Character 클래스의 객체 생성 => 검술사\n",
      "현재 캐릭터 수: 28\n",
      "이름=> 검술사 체력=> 100 공격력=> 10\n",
      "Character 클래스의 객체 생성 => 요정\n",
      "현재 캐릭터 수: 29\n",
      "이름=> 요정 체력=> 60 공격력=> 5\n",
      "Character 클래스의 객체 생성 => 도적\n",
      "현재 캐릭터 수: 30\n",
      "이름=> 도적 체력=> 85 공격력=> 8\n"
     ]
    }
   ],
   "source": [
    "swordsman = Character('검술사',100,10)\n",
    "swordsman.information()\n",
    "\n",
    "fairy = Character('요정', 60, 5)\n",
    "fairy.information()\n",
    "\n",
    "thief = Character('도적', 85, 8)\n",
    "thief.information()"
   ]
  },
  {
   "cell_type": "code",
   "execution_count": 85,
   "metadata": {},
   "outputs": [
    {
     "name": "stdout",
     "output_type": "stream",
     "text": [
      "이름=> 검술사 체력=> 248.83199999999997 공격력=> 35\n",
      "레벨 업!\n",
      "이름=> 검술사 체력=> 298.59839999999997 공격력=> 40\n"
     ]
    }
   ],
   "source": [
    "swordsman.information()\n",
    "swordsman.level_up()\n",
    "swordsman.information()\n"
   ]
  },
  {
   "cell_type": "code",
   "execution_count": 88,
   "metadata": {},
   "outputs": [
    {
     "name": "stdout",
     "output_type": "stream",
     "text": [
      "검술사 이 요정 을 공격합니다.\n",
      "공격 성공! 요정 의 체력은 -60 가 되었다!\n"
     ]
    }
   ],
   "source": [
    "swordsman.attack(fairy)"
   ]
  },
  {
   "cell_type": "code",
   "execution_count": null,
   "metadata": {},
   "outputs": [],
   "source": [
    "class Loan:\n",
    "    def __init__(self, amount, period, rate, repay_method):\n",
    "        pass\n",
    "    def total_repay():\n",
    "        pass\n",
    "    def monthly_repay():\n",
    "        pass\n"
   ]
  },
  {
   "cell_type": "code",
   "execution_count": 109,
   "metadata": {},
   "outputs": [],
   "source": [
    "class Product:\n",
    "    def __init__(self,n,p,s):\n",
    "        self.name, self.price, self.stock = n, p, s\n",
    "        print(f'{self.name} 객체 생성 완료! [가격: {self.price} 재고: {self.stock}]')\n",
    "\n",
    "    def information(self):\n",
    "        print('상품이름:', self.name)\n",
    "        print('상품가격:', self.price)\n",
    "        print('재고수량:', self.stock)\n",
    "\n",
    "class Member:\n",
    "    def __init__(self,n,j):\n",
    "        self.name, self.join_date = n, j\n",
    "        self.purchase_list = []\n",
    "        self.purchase_amount = 0\n",
    "        print(f'{self.name} 객체 생성 완료! [가입일: {self.join_date}]')\n",
    "\n",
    "    \n",
    "    def information(self):\n",
    "        print('회원이름: ', self.name)\n",
    "        print('가입일자: ', self.join_date)\n",
    "        print('구매내역: ', self.purchase_list)\n",
    "        print('누적구매금액: ', self.purchase_amount)\n",
    "    \n",
    "    #Product 객체가 인자로 전달됨\n",
    "    def buy(self, product, count):\n",
    "        print(f'{self.name} 고객님이 {product.name} {count} 개 구매!')\n",
    "        product.stock -= count # 구매수량만큼 재고 감소\n",
    "        self.purchase_list.append(product.name) # 구매내역 추가\n",
    "        self.purchase_amount += (product.price * count) # 누적 구매금액 증가"
   ]
  },
  {
   "cell_type": "code",
   "execution_count": 105,
   "metadata": {},
   "outputs": [
    {
     "name": "stdout",
     "output_type": "stream",
     "text": [
      "socks 객체 생성 완료! [가격: 1000 재고: 10]\n"
     ]
    }
   ],
   "source": [
    "socks = Product('socks',1000,10)"
   ]
  },
  {
   "cell_type": "code",
   "execution_count": 106,
   "metadata": {},
   "outputs": [
    {
     "name": "stdout",
     "output_type": "stream",
     "text": [
      "상품이름: socks\n",
      "상품가격: 1000\n",
      "재고수량: 10\n"
     ]
    }
   ],
   "source": [
    "socks.information()"
   ]
  }
 ],
 "metadata": {
  "kernelspec": {
   "display_name": "base",
   "language": "python",
   "name": "python3"
  },
  "language_info": {
   "codemirror_mode": {
    "name": "ipython",
    "version": 3
   },
   "file_extension": ".py",
   "mimetype": "text/x-python",
   "name": "python",
   "nbconvert_exporter": "python",
   "pygments_lexer": "ipython3",
   "version": "3.9.13"
  },
  "orig_nbformat": 4,
  "vscode": {
   "interpreter": {
    "hash": "ad2bdc8ecc057115af97d19610ffacc2b4e99fae6737bb82f5d7fb13d2f2c186"
   }
  }
 },
 "nbformat": 4,
 "nbformat_minor": 2
}
