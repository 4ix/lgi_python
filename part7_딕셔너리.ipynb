{
 "cells": [
  {
   "cell_type": "code",
   "execution_count": 1,
   "metadata": {},
   "outputs": [
    {
     "name": "stdout",
     "output_type": "stream",
     "text": [
      "{'break': '깨어지다', 'bring': '가져오다', 'brush': '붓', 'brave': '용감한'}\n"
     ]
    }
   ],
   "source": [
    "eng = {'break': '깨어지다', 'bring': '가져오다', 'brush': '붓', 'brave': '용감한'}\n",
    "print(eng)"
   ]
  },
  {
   "cell_type": "code",
   "execution_count": 2,
   "metadata": {},
   "outputs": [
    {
     "name": "stdout",
     "output_type": "stream",
     "text": [
      "깨어지다\n"
     ]
    }
   ],
   "source": [
    "print(eng['break'])"
   ]
  },
  {
   "cell_type": "code",
   "execution_count": 3,
   "metadata": {},
   "outputs": [
    {
     "name": "stdout",
     "output_type": "stream",
     "text": [
      "['깨어지다', '부서지다']\n"
     ]
    }
   ],
   "source": [
    "eng = {'break': ['깨어지다', '부서지다'], 'bring': '가져오다', 'brush': ['붓', '빗']}\n",
    "print(eng['break'])"
   ]
  },
  {
   "cell_type": "code",
   "execution_count": 5,
   "metadata": {},
   "outputs": [
    {
     "name": "stdout",
     "output_type": "stream",
     "text": [
      "{'김밥': 2500, '참치김밥': 3500, '라면': 3000, '치즈라면': 4000}\n"
     ]
    }
   ],
   "source": [
    "menu = {'김밥':2500,'참치김밥':3500,'라면':3000,'치즈라면':4000}\n",
    "print(menu)"
   ]
  },
  {
   "cell_type": "code",
   "execution_count": 6,
   "metadata": {},
   "outputs": [
    {
     "name": "stdout",
     "output_type": "stream",
     "text": [
      "{'김밥': 2500, '참치김밥': 3000, '라면': 3000, '치즈라면': 4000}\n"
     ]
    }
   ],
   "source": [
    "menu['참치김밥'] = 3000\n",
    "print(menu)"
   ]
  },
  {
   "cell_type": "code",
   "execution_count": 7,
   "metadata": {},
   "outputs": [
    {
     "name": "stdout",
     "output_type": "stream",
     "text": [
      "{'김밥': 2500, '참치김밥': 3000, '라면': 3000, '치즈라면': 4000, '돈가스': 6000}\n"
     ]
    }
   ],
   "source": [
    "menu['돈가스'] = 6000\n",
    "print(menu)"
   ]
  },
  {
   "cell_type": "code",
   "execution_count": 8,
   "metadata": {},
   "outputs": [
    {
     "name": "stdout",
     "output_type": "stream",
     "text": [
      "{'김밥': 2500, '참치김밥': 3000, '라면': 3000, '치즈라면': 4000, '돈가스': 6000, '김치찌개': 7000}\n"
     ]
    }
   ],
   "source": [
    "name = input('추가할 메뉴는? >')\n",
    "price = int(input('가격은? >'))\n",
    "menu[name] = price\n",
    "print(menu)"
   ]
  },
  {
   "cell_type": "code",
   "execution_count": 9,
   "metadata": {},
   "outputs": [
    {
     "name": "stdout",
     "output_type": "stream",
     "text": [
      "{'김밥': 2500, '참치김밥': 3000, '라면': 3000, '돈가스': 6000, '김치찌개': 7000}\n"
     ]
    }
   ],
   "source": [
    "del menu['치즈라면']\n",
    "print(menu)"
   ]
  },
  {
   "cell_type": "code",
   "execution_count": 10,
   "metadata": {},
   "outputs": [
    {
     "data": {
      "text/plain": [
       "dict_keys(['김밥', '참치김밥', '라면', '돈가스', '김치찌개'])"
      ]
     },
     "execution_count": 10,
     "metadata": {},
     "output_type": "execute_result"
    }
   ],
   "source": [
    "menu.keys()"
   ]
  },
  {
   "cell_type": "code",
   "execution_count": 11,
   "metadata": {},
   "outputs": [
    {
     "data": {
      "text/plain": [
       "dict_values([2500, 3000, 3000, 6000, 7000])"
      ]
     },
     "execution_count": 11,
     "metadata": {},
     "output_type": "execute_result"
    }
   ],
   "source": [
    "menu.values()"
   ]
  },
  {
   "cell_type": "code",
   "execution_count": 14,
   "metadata": {},
   "outputs": [
    {
     "name": "stdout",
     "output_type": "stream",
     "text": [
      "['김밥', '참치김밥', '라면', '돈가스', '김치찌개']\n",
      "[2500, 3000, 3000, 6000, 7000]\n"
     ]
    }
   ],
   "source": [
    "print(list(menu.keys()))\n",
    "print(list(menu.values()))"
   ]
  },
  {
   "cell_type": "code",
   "execution_count": 15,
   "metadata": {},
   "outputs": [
    {
     "data": {
      "text/plain": [
       "dict_items([('김밥', 2500), ('참치김밥', 3000), ('라면', 3000), ('돈가스', 6000), ('김치찌개', 7000)])"
      ]
     },
     "execution_count": 15,
     "metadata": {},
     "output_type": "execute_result"
    }
   ],
   "source": [
    "menu.items()"
   ]
  },
  {
   "cell_type": "code",
   "execution_count": 26,
   "metadata": {},
   "outputs": [
    {
     "name": "stdout",
     "output_type": "stream",
     "text": [
      "['김밥', '김치찌개', '돈가스', '라면', '참치김밥']\n",
      "['참치김밥', '라면', '돈가스', '김치찌개', '김밥']\n",
      "['참치김밥', '라면']\n"
     ]
    }
   ],
   "source": [
    "#키 값으로 정렬\n",
    "print(sorted(menu.keys()))\n",
    "\n",
    "#키 값으로 정렬 (내림차순)\n",
    "print(sorted(menu.keys(),reverse=True))\n",
    "\n",
    "#슬라이싱\n",
    "print(sorted(menu.keys(),reverse=True)[:2])"
   ]
  },
  {
   "cell_type": "code",
   "execution_count": 28,
   "metadata": {},
   "outputs": [
    {
     "name": "stdout",
     "output_type": "stream",
     "text": [
      "[2500, 3000]\n"
     ]
    }
   ],
   "source": [
    "# menu 중 가장 낮은 가격 2개 출력\n",
    "print(sorted(menu.values())[:2])"
   ]
  },
  {
   "cell_type": "code",
   "execution_count": 30,
   "metadata": {},
   "outputs": [
    {
     "name": "stdout",
     "output_type": "stream",
     "text": [
      "[('휴지', 4800), ('우유', 2600), ('아이스크림', 1700), ('과자', 1500), ('고기', 10500)]\n"
     ]
    }
   ],
   "source": [
    "mart = {'과자': 1500, '아이스크림': 1700, '휴지': 4800, '고기': 10500, '우유': 2600}\n",
    "print(sorted(mart.items(), reverse=True))"
   ]
  },
  {
   "cell_type": "code",
   "execution_count": 35,
   "metadata": {},
   "outputs": [
    {
     "name": "stdout",
     "output_type": "stream",
     "text": [
      "[('과자', 1500), ('아이스크림', 1700), ('우유', 2600), ('휴지', 4800), ('고기', 10500)]\n",
      "[('고기', 10500), ('휴지', 4800), ('우유', 2600), ('아이스크림', 1700), ('과자', 1500)]\n",
      "[('과자', 1500), ('아이스크림', 1700)]\n"
     ]
    }
   ],
   "source": [
    "import operator #키가 아닌 값을 기준으로 정렬할 때 사용하는 모듈\n",
    "\n",
    "mart = {'과자': 1500, '아이스크림': 1700, '휴지': 4800, '고기': 10500, '우유': 2600}\n",
    "print(sorted(mart.items(), key=operator.itemgetter(1))) # itemgetter(1) : 값을 기준으로 정렬\n",
    "print(sorted(mart.items(), key=operator.itemgetter(1), reverse=True)) # itemgetter(1) : 값을 기준으로 정렬, 내림차순 옵션 추가(비싼가격순)\n",
    "print(sorted(mart.items(), key=operator.itemgetter(1))[:2]) # 저렴한 물건 2가지"
   ]
  },
  {
   "cell_type": "code",
   "execution_count": 37,
   "metadata": {},
   "outputs": [
    {
     "name": "stdout",
     "output_type": "stream",
     "text": [
      "{'고기': 10500, '과자': 1500, '아이스크림': 1700, '우유': 2600, '휴지': 4800}\n"
     ]
    }
   ],
   "source": [
    "mart = dict(sorted(mart.items()))\n",
    "print(mart)"
   ]
  },
  {
   "cell_type": "code",
   "execution_count": 53,
   "metadata": {},
   "outputs": [
    {
     "name": "stdout",
     "output_type": "stream",
     "text": [
      "해당 학생이 없습니다.\n"
     ]
    }
   ],
   "source": [
    "midterm = {'도윤': 43, '하윤': 82, '시우': 76, '지유': 61, '주원': 94}\n",
    "\n",
    "name = input('검색할 사람 이름? ')\n",
    "if name in midterm.keys():\n",
    "    print(midterm[name])\n",
    "else:\n",
    "    print('해당 학생이 없습니다.')"
   ]
  },
  {
   "cell_type": "code",
   "execution_count": 58,
   "metadata": {},
   "outputs": [
    {
     "name": "stdout",
     "output_type": "stream",
     "text": [
      "도윤 43\n",
      "하윤 82\n",
      "시우 76\n",
      "지유 61\n",
      "주원 94\n"
     ]
    }
   ],
   "source": [
    "for k in midterm.keys():\n",
    "    print(k, midterm[k])"
   ]
  },
  {
   "cell_type": "code",
   "execution_count": 56,
   "metadata": {},
   "outputs": [
    {
     "name": "stdout",
     "output_type": "stream",
     "text": [
      "43\n",
      "82\n",
      "76\n",
      "61\n",
      "94\n"
     ]
    }
   ],
   "source": [
    "for v in midterm.values():\n",
    "    print(v)"
   ]
  },
  {
   "cell_type": "code",
   "execution_count": 69,
   "metadata": {},
   "outputs": [
    {
     "name": "stdout",
     "output_type": "stream",
     "text": [
      "('도윤', 43)\n",
      "('하윤', 82)\n",
      "('시우', 76)\n",
      "('지유', 61)\n",
      "('주원', 94)\n"
     ]
    }
   ],
   "source": [
    "for i in midterm.items():\n",
    "    print(i)"
   ]
  },
  {
   "cell_type": "code",
   "execution_count": 60,
   "metadata": {},
   "outputs": [
    {
     "name": "stdout",
     "output_type": "stream",
     "text": [
      "도윤 43\n",
      "하윤 82\n",
      "시우 76\n",
      "지유 61\n",
      "주원 94\n"
     ]
    }
   ],
   "source": [
    "for k,v in midterm.items():\n",
    "    print(k,v)"
   ]
  },
  {
   "cell_type": "code",
   "execution_count": 70,
   "metadata": {},
   "outputs": [
    {
     "name": "stdout",
     "output_type": "stream",
     "text": [
      "하윤 82\n",
      "시우 76\n",
      "주원 94\n"
     ]
    }
   ],
   "source": [
    "for k, v in midterm.items():\n",
    "    if v >70:\n",
    "        print(k,v)"
   ]
  },
  {
   "cell_type": "code",
   "execution_count": 87,
   "metadata": {},
   "outputs": [],
   "source": [
    "alibaba = 'In a town of Persia lived two brothers, sons of a poor man; one named Cassim, the other Ali Baba. Cassim, the elder, married a wife with a considerable fortune, and lived at his ease; but the wife of Ali Baba was as poor as himself: they dwelt in a mean cottage in the suburbs, and he maintained his family by cutting wood. Ali Baba was in the forest preparing to load his asses with the faggots he had cut, when he saw a troop of horsemen approaching. He hastily climbed a large [Pg 2]thick tree, and hid himself among the branches. Ali Baba counted forty of them; each took a loaded portmanteau from his horse, and turning to the rock, said, \"Open, Sesame;\" immediately a door opened, the robbers passed in, when the door shut of itself. In a short time the door opened again, and the robbers came out, who said, \"Shut, Sesame.\" The door instantly closed. Ali Baba ventured down, and approaching the rock, said, \"Open, Sesame.\" Immediately the door flew open. He brought his asses, and took as many bags of gold coin as they could carry.'\n",
    "vocab = {}\n",
    "word_list = alibaba.split()"
   ]
  },
  {
   "cell_type": "code",
   "execution_count": 88,
   "metadata": {},
   "outputs": [
    {
     "name": "stdout",
     "output_type": "stream",
     "text": [
      "{'In': 2, 'a': 10, 'town': 1, 'of': 7, 'Persia': 1, 'lived': 2, 'two': 1, 'brothers,': 1, 'sons': 1, 'poor': 2, 'man;': 1, 'one': 1, 'named': 1, 'Cassim,': 2, 'the': 14, 'other': 1, 'Ali': 5, 'Baba.': 1, 'elder,': 1, 'married': 1, 'wife': 2, 'with': 2, 'considerable': 1, 'fortune,': 1, 'and': 7, 'at': 1, 'his': 5, 'ease;': 1, 'but': 1, 'Baba': 4, 'was': 2, 'as': 4, 'himself:': 1, 'they': 2, 'dwelt': 1, 'in': 3, 'mean': 1, 'cottage': 1, 'suburbs,': 1, 'he': 3, 'maintained': 1, 'family': 1, 'by': 1, 'cutting': 1, 'wood.': 1, 'forest': 1, 'preparing': 1, 'to': 2, 'load': 1, 'asses': 1, 'faggots': 1, 'had': 1, 'cut,': 1, 'when': 2, 'saw': 1, 'troop': 1, 'horsemen': 1, 'approaching.': 1, 'He': 2, 'hastily': 1, 'climbed': 1, 'large': 1, '[Pg': 1, '2]thick': 1, 'tree,': 1, 'hid': 1, 'himself': 1, 'among': 1, 'branches.': 1, 'counted': 1, 'forty': 1, 'them;': 1, 'each': 1, 'took': 2, 'loaded': 1, 'portmanteau': 1, 'from': 1, 'horse,': 1, 'turning': 1, 'rock,': 2, 'said,': 3, '\"Open,': 2, 'Sesame;\"': 1, 'immediately': 1, 'door': 5, 'opened,': 1, 'robbers': 2, 'passed': 1, 'in,': 1, 'shut': 1, 'itself.': 1, 'short': 1, 'time': 1, 'opened': 1, 'again,': 1, 'came': 1, 'out,': 1, 'who': 1, '\"Shut,': 1, 'Sesame.\"': 2, 'The': 1, 'instantly': 1, 'closed.': 1, 'ventured': 1, 'down,': 1, 'approaching': 1, 'Immediately': 1, 'flew': 1, 'open.': 1, 'brought': 1, 'asses,': 1, 'many': 1, 'bags': 1, 'gold': 1, 'coin': 1, 'could': 1, 'carry.': 1}\n"
     ]
    }
   ],
   "source": [
    "for word in word_list:\n",
    "    if word not in vocab:\n",
    "        vocab[word] = 1\n",
    "    else:\n",
    "        vocab[word] += 1\n",
    "print(vocab)"
   ]
  },
  {
   "cell_type": "code",
   "execution_count": 89,
   "metadata": {},
   "outputs": [
    {
     "name": "stdout",
     "output_type": "stream",
     "text": [
      "[('the', 14), ('a', 10), ('of', 7), ('and', 7), ('Ali', 5), ('his', 5), ('door', 5), ('Baba', 4), ('as', 4), ('in', 3), ('he', 3), ('said,', 3), ('In', 2), ('lived', 2), ('poor', 2), ('Cassim,', 2), ('wife', 2), ('with', 2), ('was', 2), ('they', 2), ('to', 2), ('when', 2), ('He', 2), ('took', 2), ('rock,', 2), ('\"Open,', 2), ('robbers', 2), ('Sesame.\"', 2), ('town', 1), ('Persia', 1), ('two', 1), ('brothers,', 1), ('sons', 1), ('man;', 1), ('one', 1), ('named', 1), ('other', 1), ('Baba.', 1), ('elder,', 1), ('married', 1), ('considerable', 1), ('fortune,', 1), ('at', 1), ('ease;', 1), ('but', 1), ('himself:', 1), ('dwelt', 1), ('mean', 1), ('cottage', 1), ('suburbs,', 1), ('maintained', 1), ('family', 1), ('by', 1), ('cutting', 1), ('wood.', 1), ('forest', 1), ('preparing', 1), ('load', 1), ('asses', 1), ('faggots', 1), ('had', 1), ('cut,', 1), ('saw', 1), ('troop', 1), ('horsemen', 1), ('approaching.', 1), ('hastily', 1), ('climbed', 1), ('large', 1), ('[Pg', 1), ('2]thick', 1), ('tree,', 1), ('hid', 1), ('himself', 1), ('among', 1), ('branches.', 1), ('counted', 1), ('forty', 1), ('them;', 1), ('each', 1), ('loaded', 1), ('portmanteau', 1), ('from', 1), ('horse,', 1), ('turning', 1), ('Sesame;\"', 1), ('immediately', 1), ('opened,', 1), ('passed', 1), ('in,', 1), ('shut', 1), ('itself.', 1), ('short', 1), ('time', 1), ('opened', 1), ('again,', 1), ('came', 1), ('out,', 1), ('who', 1), ('\"Shut,', 1), ('The', 1), ('instantly', 1), ('closed.', 1), ('ventured', 1), ('down,', 1), ('approaching', 1), ('Immediately', 1), ('flew', 1), ('open.', 1), ('brought', 1), ('asses,', 1), ('many', 1), ('bags', 1), ('gold', 1), ('coin', 1), ('could', 1), ('carry.', 1)]\n"
     ]
    }
   ],
   "source": [
    "# 빈도수 기준으로 내림차순\n",
    "print(sorted(vocab.items(), key=operator.itemgetter(1), reverse=True)) # itemgetter(1) : 값을 기준으로 정렬, 내림차순 옵션 추가(비싼가격순)\n"
   ]
  },
  {
   "cell_type": "code",
   "execution_count": 90,
   "metadata": {},
   "outputs": [
    {
     "ename": "KeyError",
     "evalue": "'.'",
     "output_type": "error",
     "traceback": [
      "\u001b[1;31m---------------------------------------------------------------------------\u001b[0m",
      "\u001b[1;31mKeyError\u001b[0m                                  Traceback (most recent call last)",
      "\u001b[1;32m~\\AppData\\Local\\Temp\\ipykernel_18052\\2846678019.py\u001b[0m in \u001b[0;36m<module>\u001b[1;34m\u001b[0m\n\u001b[0;32m      2\u001b[0m \u001b[0mmeaningless\u001b[0m \u001b[1;33m=\u001b[0m \u001b[1;33m[\u001b[0m\u001b[1;34m'.'\u001b[0m\u001b[1;33m,\u001b[0m \u001b[1;34m','\u001b[0m\u001b[1;33m,\u001b[0m \u001b[1;34m'!'\u001b[0m\u001b[1;33m,\u001b[0m \u001b[1;34m'?'\u001b[0m\u001b[1;33m,\u001b[0m \u001b[1;34m'the'\u001b[0m\u001b[1;33m,\u001b[0m \u001b[1;34m'he'\u001b[0m\u001b[1;33m,\u001b[0m \u001b[1;34m'and'\u001b[0m\u001b[1;33m,\u001b[0m \u001b[1;34m'to'\u001b[0m\u001b[1;33m,\u001b[0m \u001b[1;34m'a'\u001b[0m\u001b[1;33m,\u001b[0m \u001b[1;34m'of'\u001b[0m\u001b[1;33m,\u001b[0m \u001b[1;34m'was'\u001b[0m\u001b[1;33m,\u001b[0m \u001b[1;34m'in'\u001b[0m\u001b[1;33m,\u001b[0m \u001b[1;34m'had'\u001b[0m\u001b[1;33m,\u001b[0m \u001b[1;34m'for'\u001b[0m\u001b[1;33m,\u001b[0m \u001b[1;34m'it'\u001b[0m\u001b[1;33m,\u001b[0m \u001b[1;34m'that'\u001b[0m\u001b[1;33m,\u001b[0m \u001b[1;34m'but'\u001b[0m\u001b[1;33m,\u001b[0m \u001b[1;34m'as'\u001b[0m\u001b[1;33m,\u001b[0m \u001b[1;34m'with'\u001b[0m\u001b[1;33m,\u001b[0m \u001b[1;34m'at'\u001b[0m\u001b[1;33m,\u001b[0m \u001b[1;34m'i'\u001b[0m\u001b[1;33m,\u001b[0m \u001b[1;34m'into'\u001b[0m\u001b[1;33m,\u001b[0m \u001b[1;34m'be'\u001b[0m\u001b[1;33m,\u001b[0m \u001b[1;34m'this'\u001b[0m\u001b[1;33m,\u001b[0m \u001b[1;34m'me'\u001b[0m\u001b[1;33m,\u001b[0m \u001b[1;34m'from'\u001b[0m\u001b[1;33m,\u001b[0m \u001b[1;34m'then'\u001b[0m\u001b[1;33m,\u001b[0m \u001b[1;34m'him'\u001b[0m\u001b[1;33m,\u001b[0m \u001b[1;34m'his'\u001b[0m\u001b[1;33m,\u001b[0m \u001b[1;34m'her'\u001b[0m\u001b[1;33m,\u001b[0m \u001b[1;34m'she'\u001b[0m\u001b[1;33m,\u001b[0m \u001b[1;34m'they'\u001b[0m\u001b[1;33m,\u001b[0m \u001b[1;34m'them'\u001b[0m\u001b[1;33m,\u001b[0m \u001b[1;34m'you'\u001b[0m\u001b[1;33m]\u001b[0m\u001b[1;33m\u001b[0m\u001b[1;33m\u001b[0m\u001b[0m\n\u001b[0;32m      3\u001b[0m \u001b[1;32mfor\u001b[0m \u001b[0mword\u001b[0m \u001b[1;32min\u001b[0m \u001b[0mmeaningless\u001b[0m\u001b[1;33m:\u001b[0m\u001b[1;33m\u001b[0m\u001b[1;33m\u001b[0m\u001b[0m\n\u001b[1;32m----> 4\u001b[1;33m     \u001b[1;32mdel\u001b[0m \u001b[0mvocab\u001b[0m\u001b[1;33m[\u001b[0m\u001b[0mword\u001b[0m\u001b[1;33m]\u001b[0m\u001b[1;33m\u001b[0m\u001b[1;33m\u001b[0m\u001b[0m\n\u001b[0m",
      "\u001b[1;31mKeyError\u001b[0m: '.'"
     ]
    }
   ],
   "source": [
    "# 의미없는 단어 제거\n",
    "meaningless = ['.', ',', '!', '?', 'the', 'he', 'and', 'to', 'a', 'of', 'was', 'in', 'had', 'for', 'it', 'that', 'but', 'as', 'with', 'at', 'i', 'into', 'be', 'this', 'me', 'from', 'then', 'him', 'his', 'her', 'she', 'they', 'them', 'you']\n",
    "for word in meaningless:\n",
    "    del vocab[word]"
   ]
  },
  {
   "cell_type": "code",
   "execution_count": 96,
   "metadata": {},
   "outputs": [
    {
     "name": "stdout",
     "output_type": "stream",
     "text": [
      "{'월요일': 'Mon', '화요일': 'Tue', '수요일': 'Wed', '목요일': 'Thu', '금요일': 'Fri', '토요일': 'Sat', '일요일': 'Sun'}\n",
      "{'월요일': 'Mon', '화요일': 'Tue', '수요일': 'Wed', '목요일': 'Thu', '금요일': 'Fri', '토요일': 'Sat', '일요일': 'SUN'}\n",
      "{'월요일': 'Mon', '화요일': 'Tue', '목요일': 'Thu', '금요일': 'Fri', '토요일': 'Sat', '일요일': 'SUN'}\n"
     ]
    }
   ],
   "source": [
    "day = {'월요일': 'Mon', '화요일': 'Tue', '수요일': 'Wed', '목요일': 'Thu', '금요일': 'Fri'}\n",
    "\n",
    "# 1) day 딕셔너리에 토요일–Sat, 일요일–Sun을 각각 키-값으로 하는 데이터를 추가하세요.\n",
    "day['토요일'] = 'Sat'\n",
    "day['일요일'] = 'Sun'\n",
    "print(day)\n",
    "\n",
    "# 2) 일요일 키에 해당하는 값을 Sun에서 SUN으로 변경하세요.\n",
    "day['일요일'] = 'SUN'\n",
    "print(day)\n",
    "\n",
    "# 3) day 딕셔너리에서 수요일–Wed 데이터를 삭제하세요.\n",
    "del day['수요일']\n",
    "print(day)"
   ]
  },
  {
   "cell_type": "code",
   "execution_count": 123,
   "metadata": {},
   "outputs": [
    {
     "name": "stdout",
     "output_type": "stream",
     "text": [
      "{'역사대모험': 21000.0, '영단어': 9900.0, '파이썬': 17850.0, '여행에세이': 23100.0, '삼국지': 34650.0}\n"
     ]
    }
   ],
   "source": [
    "book = {'역사대모험': 20000, \n",
    "        '영단어': 9000, \n",
    "        '파이썬': 17000, \n",
    "        '여행에세이': 22000, \n",
    "        '삼국지': 33000 \n",
    "       }\n",
    "\n",
    "for k, v in book.items():\n",
    "    if v <= 15000:\n",
    "        book[k] *= 1.1\n",
    "    elif v > 15000:\n",
    "        book[k] *= 1.05\n",
    "print(book)\n"
   ]
  },
  {
   "cell_type": "code",
   "execution_count": 122,
   "metadata": {},
   "outputs": [
    {
     "name": "stdout",
     "output_type": "stream",
     "text": [
      "[('라이언', 956412), ('니니즈', 861832), ('어피치', 796354), ('프로도', 534840), ('네오', 387896)]\n"
     ]
    }
   ],
   "source": [
    "ranking = {'라이언': 956412, \n",
    "           '어피치': 796354, \n",
    "           '니니즈': 861832, \n",
    "           '네오': 387896, \n",
    "           '프로도': 534840 \n",
    "          }\n",
    "\n",
    "ranking = sorted(ranking.items(),key=operator.itemgetter(1), reverse=True)\n",
    "print(ranking)"
   ]
  }
 ],
 "metadata": {
  "kernelspec": {
   "display_name": "base",
   "language": "python",
   "name": "python3"
  },
  "language_info": {
   "codemirror_mode": {
    "name": "ipython",
    "version": 3
   },
   "file_extension": ".py",
   "mimetype": "text/x-python",
   "name": "python",
   "nbconvert_exporter": "python",
   "pygments_lexer": "ipython3",
   "version": "3.9.13"
  },
  "orig_nbformat": 4,
  "vscode": {
   "interpreter": {
    "hash": "ad2bdc8ecc057115af97d19610ffacc2b4e99fae6737bb82f5d7fb13d2f2c186"
   }
  }
 },
 "nbformat": 4,
 "nbformat_minor": 2
}
