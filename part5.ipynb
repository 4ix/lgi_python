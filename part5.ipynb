{
 "cells": [
  {
   "cell_type": "code",
   "execution_count": 2,
   "metadata": {},
   "outputs": [
    {
     "name": "stdout",
     "output_type": "stream",
     "text": [
      "1275\n"
     ]
    }
   ],
   "source": [
    "result = 0\n",
    "for i in range(1,51):\n",
    "    result+=i\n",
    "print(result)"
   ]
  },
  {
   "cell_type": "code",
   "execution_count": 4,
   "metadata": {},
   "outputs": [
    {
     "name": "stdout",
     "output_type": "stream",
     "text": [
      "30414093201713378043612608166064768844377641568960512000000000000\n"
     ]
    }
   ],
   "source": [
    "result = 1\n",
    "for i in range(1,51):\n",
    "    result*=i\n",
    "print(result)"
   ]
  },
  {
   "cell_type": "code",
   "execution_count": 6,
   "metadata": {},
   "outputs": [
    {
     "name": "stdout",
     "output_type": "stream",
     "text": [
      "9 x 1 = 9\n",
      "9 x 2 = 18\n",
      "9 x 3 = 27\n",
      "9 x 4 = 36\n",
      "9 x 5 = 45\n",
      "9 x 6 = 54\n",
      "9 x 7 = 63\n",
      "9 x 8 = 72\n",
      "9 x 9 = 81\n"
     ]
    }
   ],
   "source": [
    "#구구단 출력\n",
    "num = int(input('몇단 ? >'))\n",
    "for i in range (1,10):\n",
    "    print(num,'x',i,'=',num * i)"
   ]
  },
  {
   "cell_type": "code",
   "execution_count": 8,
   "metadata": {},
   "outputs": [
    {
     "name": "stdout",
     "output_type": "stream",
     "text": [
      "구구단을 외자!\n",
      "8 x 6 = 48\n",
      "6 x 2 = 12\n",
      "7 x 7 = 49\n",
      "8 x 2 = 16\n",
      "4 x 5 = 20\n",
      "3 x 2 = 6\n",
      "4 x 8 = 32\n",
      "6 x 4 = 24\n",
      "3 x 2 = 6\n",
      "7 x 2 = 14\n"
     ]
    }
   ],
   "source": [
    "import random\n",
    "print('구구단을 외자!')\n",
    "for i in range(10):\n",
    "    a, b = random.randint(1,9), random.randint(1,9)\n",
    "    print(a,'x',b,'=',a*b)\n"
   ]
  },
  {
   "cell_type": "code",
   "execution_count": 9,
   "metadata": {},
   "outputs": [
    {
     "name": "stdout",
     "output_type": "stream",
     "text": [
      "1275\n"
     ]
    }
   ],
   "source": [
    "result = 0\n",
    "i = 1\n",
    "while i <51:\n",
    "    result+=i\n",
    "    i+=1\n",
    "print(result)"
   ]
  },
  {
   "cell_type": "code",
   "execution_count": 14,
   "metadata": {},
   "outputs": [
    {
     "name": "stdout",
     "output_type": "stream",
     "text": [
      "틀렸습니다. 9 번의 기회 남음.\n",
      "틀렸습니다. 8 번의 기회 남음.\n",
      "틀렸습니다. 7 번의 기회 남음.\n",
      "틀렸습니다. 6 번의 기회 남음.\n",
      "틀렸습니다. 5 번의 기회 남음.\n",
      "틀렸습니다. 4 번의 기회 남음.\n",
      "틀렸습니다. 3 번의 기회 남음.\n",
      "틀렸습니다. 2 번의 기회 남음.\n",
      "틀렸습니다. 1 번의 기회 남음.\n"
     ]
    }
   ],
   "source": [
    "i = 10\n",
    "while i<1:\n",
    "    a,b=random.randint(2,9), random.randint(1,9)\n",
    "    ans = int(input(f'{a} x {b} 는?'))\n",
    "    if ans != a * b:\n",
    "        i-=1\n",
    "        print('틀렸습니다.',i,'번의 기회 남음.')\n",
    "        "
   ]
  },
  {
   "cell_type": "code",
   "execution_count": 16,
   "metadata": {},
   "outputs": [
    {
     "name": "stdout",
     "output_type": "stream",
     "text": [
      "1 는 홀수 입니다., 2 는 짝수 입니다., 3 는 홀수 입니다., 4 는 짝수 입니다., 5 는 홀수 입니다., 6 는 짝수 입니다., 7 는 홀수 입니다., 8 는 짝수 입니다., 9 는 홀수 입니다., 10 는 짝수 입니다., 11 는 홀수 입니다., 12 는 짝수 입니다., 13 는 홀수 입니다., 14 는 짝수 입니다., 15 는 홀수 입니다., 16 는 짝수 입니다., 17 는 홀수 입니다., 18 는 짝수 입니다., 19 는 홀수 입니다., 20 는 짝수 입니다., 21 는 홀수 입니다., 22 는 짝수 입니다., 23 는 홀수 입니다., 24 는 짝수 입니다., 25 는 홀수 입니다., 26 는 짝수 입니다., 27 는 홀수 입니다., 28 는 짝수 입니다., 29 는 홀수 입니다., 30 는 짝수 입니다., "
     ]
    }
   ],
   "source": [
    "for i in range(1,31):\n",
    "    if i % 2 ==0:\n",
    "        print(f'{i} 는 짝수 입니다.',end=', ')\n",
    "    else:\n",
    "        print(f'{i} 는 홀수 입니다.',end=', ')"
   ]
  },
  {
   "cell_type": "code",
   "execution_count": 17,
   "metadata": {},
   "outputs": [
    {
     "name": "stdout",
     "output_type": "stream",
     "text": [
      "yes\n"
     ]
    }
   ],
   "source": [
    "if '아버지' in '아버지가방에들어가신다':\n",
    "    print('yes')"
   ]
  },
  {
   "cell_type": "code",
   "execution_count": 22,
   "metadata": {},
   "outputs": [
    {
     "name": "stdout",
     "output_type": "stream",
     "text": [
      "1, 2, 짝!, 4, 5, 짝!, 7, 8, 짝!, 10, 11, 12, 짝!, 14, 15, 짝!, 17, 18, 짝!, 20, 21, 22, 짝!, 24, 25, 짝!, 27, 28, 짝!, 짝!, 짝!, 짝!, 짝!, 짝!, 짝!, 짝!, 짝!, 짝!, 짝!, 40, 41, 42, 짝!, 44, 45, 짝!, 47, 48, 짝!, 50, 51, 52, 짝!, 54, 55, 짝!, 57, 58, 짝!, 짝!, 짝!, 짝!, 짝!, 짝!, 짝!, 짝!, 짝!, 짝!, 짝!, 70, 71, 72, 짝!, 74, 75, 짝!, 77, 78, 짝!, 80, 81, 82, 짝!, 84, 85, 짝!, 87, 88, 짝!, 짝!, 짝!, 짝!, 짝!, 짝!, 짝!, 짝!, 짝!, 짝!, 짝!, 100, "
     ]
    }
   ],
   "source": [
    "for i in range(1,101):\n",
    "    if '3' in str(i) or '6' in str(i) or '9' in str(i):\n",
    "        print(\"짝!\", end=', ')\n",
    "    else:\n",
    "        print(i, end=', ')"
   ]
  },
  {
   "cell_type": "code",
   "execution_count": 31,
   "metadata": {},
   "outputs": [
    {
     "name": "stdout",
     "output_type": "stream",
     "text": [
      "정답입니다!\n",
      "정답입니다!\n",
      "정답입니다!\n",
      "정답입니다!\n",
      "정답입니다!\n",
      "땡 ! 1 x 10 = 10 입니다.\n"
     ]
    }
   ],
   "source": [
    "ans = 0\n",
    "for i in range(1,10):\n",
    "    a,b = random.randint(1, 10), random.randint(1, 10)\n",
    "    ans = int(input(f'{i}번째 문제: {a} x {b} = ?'))\n",
    "    if ans != a * b:\n",
    "        # for j in range(5):\n",
    "        print(f'땡 ! {a} x {b} = {a*b} 입니다.')\n",
    "        break\n",
    "    else:\n",
    "        print('정답입니다!')"
   ]
  },
  {
   "cell_type": "code",
   "execution_count": 29,
   "metadata": {},
   "outputs": [
    {
     "name": "stdout",
     "output_type": "stream",
     "text": [
      "0 1 2 3 4 5 6 7 8 9 10 11 12 "
     ]
    }
   ],
   "source": [
    "ans = int(input('숫자 입력 >'))\n",
    "for i in range(20):\n",
    "    if i ==ans:\n",
    "        break\n",
    "    print(i, end=' ')"
   ]
  },
  {
   "cell_type": "code",
   "execution_count": 33,
   "metadata": {},
   "outputs": [
    {
     "name": "stdout",
     "output_type": "stream",
     "text": [
      "정답 ! 3 x 1 = 3 입니다.\n",
      "정답 ! 1 x 5 = 5 입니다.\n",
      "정답 ! 3 x 2 = 6 입니다.\n",
      "정답 ! 3 x 4 = 12 입니다.\n",
      "정답 ! 3 x 4 = 12 입니다.\n",
      "정답 ! 8 x 5 = 40 입니다.\n",
      "정답 ! 3 x 8 = 1 입니다.\n",
      "땡 ! 3 x 8 = 24 입니다.\n"
     ]
    }
   ],
   "source": [
    "ans, a, b = 0, 0, 0\n",
    "while ans == a*b:\n",
    "    a,b = random.randint(1, 10), random.randint(1, 10)\n",
    "    ans = int(input(f'{a} x {b} = ?'))\n",
    "print(f'땡 ! {a} x {b} = {a*b} 입니다.')"
   ]
  },
  {
   "cell_type": "code",
   "execution_count": 36,
   "metadata": {},
   "outputs": [
    {
     "name": "stdout",
     "output_type": "stream",
     "text": [
      "3,6,9 게임 시작\n",
      "틀렸습니다.\n"
     ]
    }
   ],
   "source": [
    "print ('3,6,9 게임 시작')\n",
    "for i in range(1,100):\n",
    "    say = input()\n",
    "    if '3' in str(i) or '6' in str(i) or '9' in str(i):\n",
    "        if say != '짝':\n",
    "            print('틀렸습니다.')\n",
    "            break\n",
    "    else:\n",
    "        if say != str(i):\n",
    "            print('틀렸습니다.')\n",
    "            break"
   ]
  },
  {
   "cell_type": "code",
   "execution_count": 44,
   "metadata": {},
   "outputs": [
    {
     "name": "stdout",
     "output_type": "stream",
     "text": [
      "10 20 30 40 50 60 70 80 90 100 "
     ]
    }
   ],
   "source": [
    "# 10부터 100까지의 숫자를 10 간격으로 출력\n",
    "for i in range(1,11):\n",
    "    print(i * 10, end=' ')"
   ]
  },
  {
   "cell_type": "code",
   "execution_count": 41,
   "metadata": {},
   "outputs": [
    {
     "name": "stdout",
     "output_type": "stream",
     "text": [
      "홈트 2주 계획\n",
      "1 일: 스쿼트 - 윗몸 일으키기 - 유산소 운동\n",
      "2 일: 스쿼트 - 윗몸 일으키기 - 유산소 운동\n",
      "3 일: 스쿼트 - 윗몸 일으키기 - 유산소 운동\n",
      "4 일: 스쿼트 - 윗몸 일으키기 - 유산소 운동\n",
      "5 일: 휴식일 입니다.\n",
      "6 일: 스쿼트 - 윗몸 일으키기 - 유산소 운동\n",
      "7 일: 스쿼트 - 윗몸 일으키기 - 유산소 운동\n",
      "8 일: 스쿼트 - 윗몸 일으키기 - 유산소 운동\n",
      "9 일: 스쿼트 - 윗몸 일으키기 - 유산소 운동\n",
      "10 일: 휴식일 입니다.\n",
      "11 일: 스쿼트 - 윗몸 일으키기 - 유산소 운동\n",
      "12 일: 스쿼트 - 윗몸 일으키기 - 유산소 운동\n",
      "13 일: 스쿼트 - 윗몸 일으키기 - 유산소 운동\n",
      "14 일: 스쿼트 - 윗몸 일으키기 - 유산소 운동\n"
     ]
    }
   ],
   "source": [
    "print('홈트 2주 계획')\n",
    "for i in range(1,15):\n",
    "    if i % 5 ==0:\n",
    "        print(i, '일: 휴식일 입니다.')\n",
    "    else:\n",
    "        print(i,'일: 스쿼트 - 윗몸 일으키기 - 유산소 운동')"
   ]
  },
  {
   "cell_type": "code",
   "execution_count": 43,
   "metadata": {},
   "outputs": [
    {
     "name": "stdout",
     "output_type": "stream",
     "text": [
      "후라이 팬 놀이!\n",
      "수진수진수진\n",
      "명수명수\n",
      "현지현지현지현지\n",
      "동식동식동식\n",
      "지연\n"
     ]
    }
   ],
   "source": [
    "print('후라이 팬 놀이!')\n",
    "for i in range(5):\n",
    "    name = input('이름? ')\n",
    "    cnt = int(input('횟수? '))\n",
    "    print(name*cnt)"
   ]
  }
 ],
 "metadata": {
  "kernelspec": {
   "display_name": "base",
   "language": "python",
   "name": "python3"
  },
  "language_info": {
   "codemirror_mode": {
    "name": "ipython",
    "version": 3
   },
   "file_extension": ".py",
   "mimetype": "text/x-python",
   "name": "python",
   "nbconvert_exporter": "python",
   "pygments_lexer": "ipython3",
   "version": "3.9.13"
  },
  "orig_nbformat": 4,
  "vscode": {
   "interpreter": {
    "hash": "ad2bdc8ecc057115af97d19610ffacc2b4e99fae6737bb82f5d7fb13d2f2c186"
   }
  }
 },
 "nbformat": 4,
 "nbformat_minor": 2
}
