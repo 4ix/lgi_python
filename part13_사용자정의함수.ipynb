{
 "cells": [
  {
   "cell_type": "code",
   "execution_count": 1,
   "metadata": {},
   "outputs": [
    {
     "name": "stdout",
     "output_type": "stream",
     "text": [
      "hi!\n",
      "My name is 고라니 and My job is programmer !\n"
     ]
    }
   ],
   "source": [
    "def hi_2(name, job):\n",
    "    print('hi!')\n",
    "    print('My name is', name, 'and My job is', job, '!')\n",
    "\n",
    "hi_2(name = '고라니', job = 'programmer')"
   ]
  },
  {
   "cell_type": "code",
   "execution_count": 2,
   "metadata": {},
   "outputs": [
    {
     "name": "stdout",
     "output_type": "stream",
     "text": [
      "hi!\n",
      "My name is A !\n",
      "hi!\n",
      "My name is B !\n",
      "hi!\n",
      "My name is C !\n"
     ]
    }
   ],
   "source": [
    "def hi(name = 'A'):\n",
    "    print('hi!')\n",
    "    print('My name is', name, '!')\n",
    "\n",
    "hi()\n",
    "hi('B')\n",
    "hi(name = 'C')"
   ]
  },
  {
   "cell_type": "code",
   "execution_count": 5,
   "metadata": {},
   "outputs": [
    {
     "data": {
      "text/plain": [
       "1335"
      ]
     },
     "execution_count": 5,
     "metadata": {},
     "output_type": "execute_result"
    }
   ],
   "source": [
    "def plus(num1, num2):\n",
    "    result = num1 + num2\n",
    "    return result"
   ]
  },
  {
   "cell_type": "code",
   "execution_count": 9,
   "metadata": {},
   "outputs": [
    {
     "name": "stdout",
     "output_type": "stream",
     "text": [
      "두 수의 합은  21645 입니다.\n"
     ]
    }
   ],
   "source": [
    "num1, num2 = input('두 수를 입력하세요 >').split()\n",
    "\n",
    "result = plus(int(num1),int(num2))\n",
    "\n",
    "print('두 수의 합은 ', result, '입니다.')"
   ]
  },
  {
   "cell_type": "code",
   "execution_count": 14,
   "metadata": {},
   "outputs": [
    {
     "name": "stdout",
     "output_type": "stream",
     "text": [
      "당신은 86.2 점 이기 때문에 합격 입니다.\n"
     ]
    }
   ],
   "source": [
    "def calculate_score(kor, eng, mat):\n",
    "    score = int(kor) * 0.3 + int(eng) * 0.3 + int(mat) * 0.4\n",
    "    if score > 80:\n",
    "        pass_yn = '합격'\n",
    "    else:\n",
    "        pass_yn = '불합격'\n",
    "    return score, pass_yn\n",
    "\n",
    "kor,eng,mat = input('국어, 영어, 수학 점수 입력 >').split()\n",
    "\n",
    "result_score, pass_yn = calculate_score(kor,eng,mat)\n",
    "\n",
    "print(f'당신은 {result_score} 점 이기 때문에 {pass_yn} 입니다.')"
   ]
  },
  {
   "cell_type": "code",
   "execution_count": 17,
   "metadata": {},
   "outputs": [
    {
     "name": "stdout",
     "output_type": "stream",
     "text": [
      "자기소개를 시작합니다.\n",
      "hi!\n",
      "My name is 지훈 !\n",
      "지훈 님 안녕하세요.\n"
     ]
    }
   ],
   "source": [
    "def hi():\n",
    "    name = input('이름은? ')\n",
    "    print('hi!')\n",
    "    print('My name is', name, '!')\n",
    "    return name\n",
    "print('자기소개를 시작합니다.')\n",
    "person = hi()\n",
    "print(person, '님 안녕하세요.')"
   ]
  },
  {
   "cell_type": "code",
   "execution_count": 35,
   "metadata": {},
   "outputs": [
    {
     "name": "stdout",
     "output_type": "stream",
     "text": [
      "7 20\n",
      "9 40\n",
      "11 80\n",
      "13 160\n",
      "15 320\n"
     ]
    }
   ],
   "source": [
    "def func1():\n",
    "    global a, b\n",
    "    a += 2\n",
    "    b *= 2\n",
    "    print(a, b)\n",
    "\n",
    "a, b = 5, 10 # a, b 변수 정의\n",
    "for i in range(5):\n",
    "    func1()"
   ]
  },
  {
   "cell_type": "code",
   "execution_count": 39,
   "metadata": {},
   "outputs": [
    {
     "name": "stdout",
     "output_type": "stream",
     "text": [
      "현재 점수 : 5\n",
      "최종 점수 : 10\n"
     ]
    }
   ],
   "source": [
    "def reward_penalty(kind, points):\n",
    "    global current_point\n",
    "    print('현재 점수 :', current_point)\n",
    "    if kind == '상점':\n",
    "        current_point += points\n",
    "    elif kind == '벌점':\n",
    "        current_point -= points\n",
    "    return current_point\n",
    "\n",
    "current_point = 5\n",
    "reward_penalty('상점', 5)\n",
    "print('최종 점수 :', current_point)"
   ]
  },
  {
   "cell_type": "code",
   "execution_count": 40,
   "metadata": {},
   "outputs": [
    {
     "name": "stdout",
     "output_type": "stream",
     "text": [
      "구구단을 외자! 구구단을 외자!\n",
      "땡! 정답은 14\n"
     ]
    }
   ],
   "source": [
    "import random\n",
    "\n",
    "print('구구단을 외자! 구구단을 외자!')\n",
    "for i in range(20):\n",
    "    a, b = random.randint(2, 9), random.randint(1, 9)\n",
    "    answer = int(input(str(a) + 'x' + str(b) + '? '))\n",
    "\n",
    "    if answer != a * b:\n",
    "        print('땡! 정답은', a * b)\n",
    "        break"
   ]
  },
  {
   "cell_type": "code",
   "execution_count": 41,
   "metadata": {},
   "outputs": [],
   "source": [
    "import random\n",
    "\n",
    "def gugudan(num1, num2):\n",
    "    answer = int(input(str(num1) + 'x' + str(num2) + '? '))\n",
    "\n",
    "    if answer == num1 * num2:\n",
    "        return 0\n",
    "    else:\n",
    "        print('땡! 정답은', num1 * num2)\n",
    "        return -1"
   ]
  },
  {
   "cell_type": "code",
   "execution_count": 43,
   "metadata": {},
   "outputs": [
    {
     "name": "stdout",
     "output_type": "stream",
     "text": [
      "구구단을 외자! 구구단을 외자!\n",
      "땡! 정답은 12\n"
     ]
    }
   ],
   "source": [
    "print('구구단을 외자! 구구단을 외자!')\n",
    "for i in range(20):\n",
    "    a, b = random.randint(2, 9), random.randint(1, 9)\n",
    "    if gugudan(a, b) != 0:\n",
    "        break"
   ]
  },
  {
   "cell_type": "code",
   "execution_count": 47,
   "metadata": {},
   "outputs": [
    {
     "name": "stdout",
     "output_type": "stream",
     "text": [
      "팅 팅팅팅 탱 탱탱탱 팅팅 탱탱 프라이팬 놀이\n",
      "까치까치\n",
      "참소ㅔ 은/는 없는 이름입니다!\n"
     ]
    }
   ],
   "source": [
    "players = ['까치', '강아지', '토끼', '고양이', '참새']\n",
    "def game_play(name, cnt):\n",
    "    print(name * cnt)\n",
    "\n",
    "def wrong_play(name, cnt):\n",
    "    if name not in players:\n",
    "        print(name, '은/는 없는 이름입니다!')\n",
    "        return -1\n",
    "    if cnt < 1 or cnt > 4:\n",
    "        print('1~4의 숫자만 가능합니다! 입력한 숫자', cnt)\n",
    "        return -1\n",
    "\n",
    "print('팅 팅팅팅 탱 탱탱탱 팅팅 탱탱 프라이팬 놀이')\n",
    "\n",
    "for i in range(5):\n",
    "    next_player, count = input('이름? '), int(input('횟수? '))\n",
    "    check = wrong_play(next_player, count)\n",
    "    if check == -1:\n",
    "        break\n",
    "    else:\n",
    "        game_play(next_player, count)"
   ]
  },
  {
   "cell_type": "code",
   "execution_count": 49,
   "metadata": {},
   "outputs": [
    {
     "name": "stdout",
     "output_type": "stream",
     "text": [
      "9 x 1 = 9\n",
      "9 x 2 = 18\n",
      "9 x 3 = 27\n",
      "9 x 4 = 36\n",
      "9 x 5 = 45\n",
      "9 x 6 = 54\n",
      "9 x 7 = 63\n",
      "9 x 8 = 72\n",
      "9 x 9 = 81\n"
     ]
    }
   ],
   "source": [
    "def gugudan(num):\n",
    "    for i in range(1,10):\n",
    "        print(f'{num} x {i} = {num * i}')\n",
    "\n",
    "gugudan(9)"
   ]
  },
  {
   "cell_type": "code",
   "execution_count": 52,
   "metadata": {},
   "outputs": [
    {
     "name": "stdout",
     "output_type": "stream",
     "text": [
      "2 단 ------\n",
      "2 x 1 = 2\n",
      "2 x 2 = 4\n",
      "2 x 3 = 6\n",
      "2 x 4 = 8\n",
      "2 x 5 = 10\n",
      "2 x 6 = 12\n",
      "2 x 7 = 14\n",
      "2 x 8 = 16\n",
      "2 x 9 = 18\n",
      "3 단 ------\n",
      "3 x 1 = 3\n",
      "3 x 2 = 6\n",
      "3 x 3 = 9\n",
      "3 x 4 = 12\n",
      "3 x 5 = 15\n",
      "3 x 6 = 18\n",
      "3 x 7 = 21\n",
      "3 x 8 = 24\n",
      "3 x 9 = 27\n",
      "4 단 ------\n",
      "4 x 1 = 4\n",
      "4 x 2 = 8\n",
      "4 x 3 = 12\n",
      "4 x 4 = 16\n",
      "4 x 5 = 20\n",
      "4 x 6 = 24\n",
      "4 x 7 = 28\n",
      "4 x 8 = 32\n",
      "4 x 9 = 36\n",
      "5 단 ------\n",
      "5 x 1 = 5\n",
      "5 x 2 = 10\n",
      "5 x 3 = 15\n",
      "5 x 4 = 20\n",
      "5 x 5 = 25\n",
      "5 x 6 = 30\n",
      "5 x 7 = 35\n",
      "5 x 8 = 40\n",
      "5 x 9 = 45\n",
      "6 단 ------\n",
      "6 x 1 = 6\n",
      "6 x 2 = 12\n",
      "6 x 3 = 18\n",
      "6 x 4 = 24\n",
      "6 x 5 = 30\n",
      "6 x 6 = 36\n",
      "6 x 7 = 42\n",
      "6 x 8 = 48\n",
      "6 x 9 = 54\n",
      "7 단 ------\n",
      "7 x 1 = 7\n",
      "7 x 2 = 14\n",
      "7 x 3 = 21\n",
      "7 x 4 = 28\n",
      "7 x 5 = 35\n",
      "7 x 6 = 42\n",
      "7 x 7 = 49\n",
      "7 x 8 = 56\n",
      "7 x 9 = 63\n",
      "8 단 ------\n",
      "8 x 1 = 8\n",
      "8 x 2 = 16\n",
      "8 x 3 = 24\n",
      "8 x 4 = 32\n",
      "8 x 5 = 40\n",
      "8 x 6 = 48\n",
      "8 x 7 = 56\n",
      "8 x 8 = 64\n",
      "8 x 9 = 72\n",
      "9 단 ------\n",
      "9 x 1 = 9\n",
      "9 x 2 = 18\n",
      "9 x 3 = 27\n",
      "9 x 4 = 36\n",
      "9 x 5 = 45\n",
      "9 x 6 = 54\n",
      "9 x 7 = 63\n",
      "9 x 8 = 72\n",
      "9 x 9 = 81\n"
     ]
    }
   ],
   "source": [
    "def gugudan():\n",
    "    for i in range(2,10):\n",
    "        print(i,'단 ------')\n",
    "        for j in range(1,10):\n",
    "            print(f'{i} x {j} = {i * j}')\n",
    "\n",
    "gugudan()\n"
   ]
  },
  {
   "cell_type": "code",
   "execution_count": 64,
   "metadata": {},
   "outputs": [
    {
     "name": "stdout",
     "output_type": "stream",
     "text": [
      "등급 : B\n"
     ]
    }
   ],
   "source": [
    "# cal_grade() 함수 정의 부분\n",
    "def cal_grade(num):\n",
    "    if num >=80:\n",
    "        result = 'A'\n",
    "    elif num >=40:\n",
    "        result = 'B'\n",
    "    else:\n",
    "        result = 'C'\n",
    "    return result\n",
    "\n",
    "\n",
    "s = int(input('점수 : '))\n",
    "print('등급 :', cal_grade(s))\n"
   ]
  }
 ],
 "metadata": {
  "kernelspec": {
   "display_name": "base",
   "language": "python",
   "name": "python3"
  },
  "language_info": {
   "codemirror_mode": {
    "name": "ipython",
    "version": 3
   },
   "file_extension": ".py",
   "mimetype": "text/x-python",
   "name": "python",
   "nbconvert_exporter": "python",
   "pygments_lexer": "ipython3",
   "version": "3.9.13"
  },
  "orig_nbformat": 4,
  "vscode": {
   "interpreter": {
    "hash": "ad2bdc8ecc057115af97d19610ffacc2b4e99fae6737bb82f5d7fb13d2f2c186"
   }
  }
 },
 "nbformat": 4,
 "nbformat_minor": 2
}
