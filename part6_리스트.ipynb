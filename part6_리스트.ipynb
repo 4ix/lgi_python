{
 "cells": [
  {
   "cell_type": "code",
   "execution_count": 1,
   "metadata": {},
   "outputs": [
    {
     "name": "stdout",
     "output_type": "stream",
     "text": [
      "<class 'list'> [1, 2, 3, 4, 5]\n"
     ]
    }
   ],
   "source": [
    "abc = [1,2,3,4,5]\n",
    "print(type(abc),abc)"
   ]
  },
  {
   "cell_type": "code",
   "execution_count": 2,
   "metadata": {},
   "outputs": [
    {
     "name": "stdout",
     "output_type": "stream",
     "text": [
      "25\n",
      "36\n",
      "8\n",
      "53\n",
      "24\n",
      "56\n"
     ]
    }
   ],
   "source": [
    "for i in [25,36,8,53,24,56]:\n",
    "    print(i)"
   ]
  },
  {
   "cell_type": "code",
   "execution_count": 3,
   "metadata": {},
   "outputs": [
    {
     "name": "stdout",
     "output_type": "stream",
     "text": [
      "25\n",
      "36\n",
      "8\n",
      "53\n",
      "24\n",
      "56\n"
     ]
    }
   ],
   "source": [
    "spending = [25,36,8,53,24,56]\n",
    "for s in spending:\n",
    "    print(s)"
   ]
  },
  {
   "cell_type": "code",
   "execution_count": 7,
   "metadata": {},
   "outputs": [
    {
     "name": "stdout",
     "output_type": "stream",
     "text": [
      "1 월 지출은: 25\n",
      "2 월 지출은: 36\n",
      "3 월 지출은: 8\n",
      "4 월 지출은: 53\n",
      "5 월 지출은: 24\n",
      "6 월 지출은: 56\n"
     ]
    }
   ],
   "source": [
    "for i in range(len(spending)):\n",
    "    print(i+1,'월 지출은:',spending[i])"
   ]
  },
  {
   "cell_type": "code",
   "execution_count": 13,
   "metadata": {},
   "outputs": [
    {
     "name": "stdout",
     "output_type": "stream",
     "text": [
      "파스타\n"
     ]
    }
   ],
   "source": [
    "food = ['피자','치킨','떡볶이','스테이크','파스타']\n",
    "print(food[len(food)-1])"
   ]
  },
  {
   "cell_type": "code",
   "execution_count": 14,
   "metadata": {},
   "outputs": [
    {
     "name": "stdout",
     "output_type": "stream",
     "text": [
      "['피자', '치킨', '떡볶이', '스테이크', '파스타', '감자칩']\n"
     ]
    }
   ],
   "source": [
    "food.append('감자칩')\n",
    "print(food)"
   ]
  },
  {
   "cell_type": "code",
   "execution_count": 18,
   "metadata": {},
   "outputs": [
    {
     "name": "stdout",
     "output_type": "stream",
     "text": [
      "['집 가서', '밥ㅂ먹고', '빨래하고', '샤워하고', '잠ㄱ자기']\n"
     ]
    }
   ],
   "source": [
    "to_do = []\n",
    "for i in range(5):\n",
    "    to_do.append(input('해야 할 일 입력 >'))\n",
    "print(to_do)"
   ]
  },
  {
   "cell_type": "code",
   "execution_count": 20,
   "metadata": {},
   "outputs": [
    {
     "name": "stdout",
     "output_type": "stream",
     "text": [
      "['피자', '치킨', '스테이크', '파스타']\n",
      "['피자', '치킨', '스테이크']\n"
     ]
    }
   ],
   "source": [
    "food = ['피자','치킨','떡볶이','스테이크','파스타']\n",
    "food.remove('떡볶이')\n",
    "print(food)\n",
    "del food[-1]\n",
    "print(food)"
   ]
  },
  {
   "cell_type": "code",
   "execution_count": 24,
   "metadata": {},
   "outputs": [
    {
     "name": "stdout",
     "output_type": "stream",
     "text": [
      "['스테이크', '파스타']\n"
     ]
    }
   ],
   "source": [
    "food = ['피자','치킨','떡볶이','스테이크','파스타']\n",
    "print(food[-2:])"
   ]
  },
  {
   "cell_type": "code",
   "execution_count": 30,
   "metadata": {},
   "outputs": [
    {
     "name": "stdout",
     "output_type": "stream",
     "text": [
      "우주\n",
      "우주\n"
     ]
    }
   ],
   "source": [
    "a = '나는야 우주 최강'\n",
    "print(a[4:6])\n",
    "print(a[-5:-3])"
   ]
  },
  {
   "cell_type": "code",
   "execution_count": 33,
   "metadata": {},
   "outputs": [
    {
     "name": "stdout",
     "output_type": "stream",
     "text": [
      "연도 2021\n",
      "월 04\n",
      "일 15\n"
     ]
    }
   ],
   "source": [
    "date='2021-04-15'\n",
    "print('연도',date[:4])\n",
    "print('월',date[5:7])\n",
    "print('일',date[-2:])"
   ]
  },
  {
   "cell_type": "code",
   "execution_count": 35,
   "metadata": {},
   "outputs": [
    {
     "name": "stdout",
     "output_type": "stream",
     "text": [
      "나는야\n"
     ]
    }
   ],
   "source": [
    "print(a.split()[0])"
   ]
  },
  {
   "cell_type": "code",
   "execution_count": 37,
   "metadata": {},
   "outputs": [
    {
     "name": "stdout",
     "output_type": "stream",
     "text": [
      "15\n"
     ]
    }
   ],
   "source": [
    "print(date.split('-')[2])"
   ]
  },
  {
   "cell_type": "code",
   "execution_count": 40,
   "metadata": {},
   "outputs": [
    {
     "name": "stdout",
     "output_type": "stream",
     "text": [
      "['피자', '파스타', '치킨', '스테이크', '떡볶이']\n"
     ]
    }
   ],
   "source": [
    "food = ['피자','치킨','떡볶이','스테이크','파스타']\n",
    "food.sort(reverse=True)\n",
    "print(food)"
   ]
  },
  {
   "cell_type": "code",
   "execution_count": 49,
   "metadata": {},
   "outputs": [
    {
     "name": "stdout",
     "output_type": "stream",
     "text": [
      "[56, 53]\n",
      "[24, 8]\n",
      "56\n",
      "8\n",
      "202\n",
      "4\n",
      "24\n"
     ]
    }
   ],
   "source": [
    "# 가장 큰 금액 2개\n",
    "spending = [25,36,8,53,24,56]\n",
    "spending.sort(reverse=True)\n",
    "print(spending[0:2])\n",
    "\n",
    "# 가장 작은 금액 2개\n",
    "spending.sort(reverse=True)\n",
    "print(spending[-2:])\n",
    "\n",
    "print(max(spending))\n",
    "print(min(spending))\n",
    "print(sum(spending))\n",
    "print(spending.index(24))\n",
    "print(spending[4])"
   ]
  },
  {
   "cell_type": "code",
   "execution_count": 53,
   "metadata": {},
   "outputs": [
    {
     "name": "stdout",
     "output_type": "stream",
     "text": [
      "스테이크 는 3 위 입니다.\n"
     ]
    }
   ],
   "source": [
    "food = ['피자','치킨','스테이크','된장지깨']\n",
    "search = input('좋아하는 음식은? ')\n",
    "if search in food:\n",
    "    print(search,'는', food.index(search)+1, '위 입니다.')\n",
    "else:\n",
    "    print('해당 음식은 없습니다.')"
   ]
  },
  {
   "cell_type": "code",
   "execution_count": 54,
   "metadata": {},
   "outputs": [
    {
     "name": "stdout",
     "output_type": "stream",
     "text": [
      "강아지 좋아하니 고양이 추천함.\n",
      "댄스 좋아하니 음악 추천함\n"
     ]
    }
   ],
   "source": [
    "history = ['먹방', '강아지', '요리', '댄스']\n",
    "if '강아지' in history:\n",
    "    print('강아지 좋아하니 고양이 추천함.')\n",
    "if '댄스' in history:\n",
    "    print('댄스 좋아하니 음악 추천함')"
   ]
  },
  {
   "cell_type": "code",
   "execution_count": 55,
   "metadata": {},
   "outputs": [
    {
     "name": "stdout",
     "output_type": "stream",
     "text": [
      "['다이어트', '헬스', '요리', '예능', '교양']\n",
      "다이어트 좋아하니 헬스 추천\n"
     ]
    }
   ],
   "source": [
    "history = []\n",
    "for i in range(5):\n",
    "    data = input('시청한 영상은? ')\n",
    "    history.append(data)\n",
    "print(history)\n",
    "if '다이어트' in history:\n",
    "    print('다이어트 좋아하니 헬스 추천')\n",
    "if '뉴스' in history:\n",
    "    print('뉴스 좋아하니 교양 추천')"
   ]
  },
  {
   "cell_type": "code",
   "execution_count": 77,
   "metadata": {},
   "outputs": [
    {
     "name": "stdout",
     "output_type": "stream",
     "text": [
      "[22, 52, 83, 23, 42, 98, 5, 98, 28, 43, 54, 69, 90, 18, 37, 43, 21, 46, 93, 61, 87, 83, 89, 96, 46]\n",
      "3 번 83\n",
      "6 번 98\n",
      "6 번 98\n",
      "13 번 90\n",
      "19 번 93\n",
      "21 번 87\n",
      "3 번 83\n",
      "23 번 89\n",
      "24 번 96\n",
      "3 번 83\n",
      "6 번 98\n",
      "8 번 98\n",
      "13 번 90\n",
      "19 번 93\n",
      "21 번 87\n",
      "22 번 83\n",
      "23 번 89\n",
      "24 번 96\n"
     ]
    }
   ],
   "source": [
    "import random\n",
    "score = []\n",
    "for i in range(25):\n",
    "    score.append(random.randint(0,100))\n",
    "print(score)\n",
    "\n",
    "for s in score:\n",
    "    if s >= 70:\n",
    "        print(score.index(s)+1,'번',s)\n",
    "\n",
    "for i in range(len(score)):\n",
    "    if score[i] >=70:\n",
    "        print(i+1,'번',score[i])"
   ]
  },
  {
   "cell_type": "code",
   "execution_count": 79,
   "metadata": {},
   "outputs": [
    {
     "name": "stdout",
     "output_type": "stream",
     "text": [
      "43\n",
      "1 / 10\n",
      "2 / 10\n",
      "3 / 10\n",
      "실패\n"
     ]
    }
   ],
   "source": [
    "line2 = ['성수', '뚝섬', '한양대', '왕십리', '상왕십리', '신당', '동대문역사문화공원','을지로4가', '을지로3가', '을지로입구', '시청', '충정로', '아현', '이대', '신촌', '홍대입구', '합정', '당산', '영등포구청', '문래', '신도림', '대림', '구로디지털단지', '신대방', '신림', '봉천', '서울대입구', '낙성대', '사당', '방배', '서초', '교대', '강남', '역삼', '선릉', '삼성', '종합운동장', '잠실새내', '잠실', '잠실나루', '강변', '구의', '건대입구']\n",
    "print(len(line2))\n",
    "for i in range(10):\n",
    "    print(i+1, '/ 10' )\n",
    "    ans = input('역 이름 입력 >')\n",
    "    if ans not in line2:\n",
    "        print('실패')\n",
    "        break"
   ]
  },
  {
   "cell_type": "code",
   "execution_count": 1,
   "metadata": {},
   "outputs": [],
   "source": [
    "card = [['2020/03/04', '주식회사 카카오페이', 1000],\n",
    "        ['2020/03/03', '네이버페이', 51100],\n",
    "        ['2020/03/02', '스타벅스코리아', 10000],\n",
    "        ['2020/03/01', '11번가', 27500],\n",
    "        ['2020/02/26', '주식회사 카카오페이', 32500],\n",
    "        ['2020/02/26', '주식회사 카카오페이', 32500],\n",
    "        ['2020/02/22', 'G마켓', 81500],\n",
    "        ['2020/02/22', '네이버페이',131000]]"
   ]
  },
  {
   "cell_type": "code",
   "execution_count": 5,
   "metadata": {},
   "outputs": [
    {
     "name": "stdout",
     "output_type": "stream",
     "text": [
      "주식회사 카카오페이\n",
      "11번가\n"
     ]
    }
   ],
   "source": [
    "print(card[0][1])\n",
    "print(card[3][1])"
   ]
  },
  {
   "cell_type": "code",
   "execution_count": 7,
   "metadata": {},
   "outputs": [
    {
     "name": "stdout",
     "output_type": "stream",
     "text": [
      "네이버페이 131000\n"
     ]
    }
   ],
   "source": [
    "print(card[-1][1], card[-1][2])"
   ]
  },
  {
   "cell_type": "code",
   "execution_count": 8,
   "metadata": {},
   "outputs": [],
   "source": [
    "olympic =[[1, '미국', 46, 37, 38, 121],\n",
    "          [2, '영국', 27, 23, 17, 67],\n",
    "          [3, '중국', 26, 18, 26, 70],\n",
    "          [4, '러시아', 19, 18, 19, 55],\n",
    "          [5, '독일', 17, 10, 15, 42],\n",
    "          [6, '일본', 12, 8, 21, 41],\n",
    "          [7, '프랑스', 10, 18, 14, 42],\n",
    "          [8, '대한민국', 9, 3, 9, 21]]"
   ]
  },
  {
   "cell_type": "code",
   "execution_count": 12,
   "metadata": {},
   "outputs": [
    {
     "name": "stdout",
     "output_type": "stream",
     "text": [
      "미국 의 메달 개수: [46, 37, 38]\n"
     ]
    }
   ],
   "source": [
    "# 미국 금은동 메달 개수\n",
    "print(olympic[0][1],'의 메달 개수:',olympic[0][2:5])"
   ]
  },
  {
   "cell_type": "code",
   "execution_count": 15,
   "metadata": {},
   "outputs": [
    {
     "name": "stdout",
     "output_type": "stream",
     "text": [
      "[[1, '미국', 46, 37, 38, 121], [2, '영국', 27, 23, 17, 67], [3, '중국', 26, 18, 26, 70], [4, '러시아', 19, 18, 19, 55]]\n"
     ]
    }
   ],
   "source": [
    "print(olympic[:4])"
   ]
  },
  {
   "cell_type": "code",
   "execution_count": 17,
   "metadata": {},
   "outputs": [
    {
     "name": "stdout",
     "output_type": "stream",
     "text": [
      "[1, '미국']\n",
      "[2, '영국']\n",
      "[3, '중국']\n",
      "[4, '러시아']\n",
      "[5, '독일']\n",
      "[6, '일본']\n",
      "[7, '프랑스']\n",
      "[8, '대한민국']\n"
     ]
    }
   ],
   "source": [
    "for row in olympic:\n",
    "    print(row[:2])"
   ]
  },
  {
   "cell_type": "code",
   "execution_count": 18,
   "metadata": {},
   "outputs": [
    {
     "name": "stdout",
     "output_type": "stream",
     "text": [
      "금메달보다 은메달이 더 많은 나라\n",
      "프랑스\n"
     ]
    }
   ],
   "source": [
    "print('금메달보다 은메달이 더 많은 나라')\n",
    "for row in olympic:\n",
    "    if row[2] < row[3]:\n",
    "        print(row[1])"
   ]
  },
  {
   "cell_type": "code",
   "execution_count": 19,
   "metadata": {},
   "outputs": [
    {
     "name": "stdout",
     "output_type": "stream",
     "text": [
      "166\n"
     ]
    }
   ],
   "source": [
    "# 이번에는 1위부터 8위까지 모든 국가가 획득한 금메달 개수의 합을 구해 봅시다.\n",
    "total_medals = 0\n",
    "for row in olympic:\n",
    "    total_medals += row[2]\n",
    "print(total_medals)"
   ]
  },
  {
   "cell_type": "code",
   "execution_count": 22,
   "metadata": {},
   "outputs": [
    {
     "name": "stdout",
     "output_type": "stream",
     "text": [
      "['영국', '독일', '대한민국']\n"
     ]
    }
   ],
   "source": [
    "# 나라별 총 메달 개수 중 금메달이 차지하는 비율이 40%가 넘는 나라\n",
    "rate=[]\n",
    "for row in olympic:\n",
    "    if row[2]/row[-1]*100 > 40:\n",
    "        rate.append(row[1])\n",
    "print(rate)"
   ]
  },
  {
   "cell_type": "code",
   "execution_count": 30,
   "metadata": {},
   "outputs": [
    {
     "name": "stdout",
     "output_type": "stream",
     "text": [
      "['역사탐험대', '파이썬', '학습법', '영단어', '여행에세이', '삼국지'] [19952, 19378, 15082, 15742, 19225, 21815]\n",
      "가장비싼가격: 21815\n",
      "가장비싼책: 삼국지\n"
     ]
    }
   ],
   "source": [
    "import random \n",
    "book_name = ['역사탐험대', '파이썬', '학습법', '영단어', '여행에세이', '삼국지'] \n",
    "book_price = []\n",
    "\n",
    "for row in book_name:\n",
    "    book_price.append(random.randint(15000,25000))\n",
    "\n",
    "print(book_name, book_price)\n",
    "print('가장비싼가격:',max(book_price))\n",
    "print('가장비싼책:',book_name[book_price.index(max(book_price))])"
   ]
  },
  {
   "cell_type": "code",
   "execution_count": 46,
   "metadata": {},
   "outputs": [
    {
     "name": "stdout",
     "output_type": "stream",
     "text": [
      "1 - 라이언\n",
      "2 - 니니즈\n",
      "3 - 어피치\n",
      "4 - 프로도\n",
      "5 - 네오\n",
      "\n",
      "라이언 956412\n",
      "니니즈 861832\n",
      "어피치 796354\n",
      "프로도 534840\n",
      "\n",
      "니니즈 65343\n",
      "프로도 329486\n",
      "네오 260471\n",
      "\n",
      "라이언\n",
      "니니즈\n",
      "프로도\n"
     ]
    }
   ],
   "source": [
    "ranking = [[1, '라이언', 956412, 564553], \n",
    "           [2, '니니즈', 861832, 927175], \n",
    "           [3, '어피치', 796354, 593175], \n",
    "           [4, '프로도', 534840, 864326], \n",
    "           [5, '네오', 387896, 648367]]\n",
    "\n",
    "#1) 참가자의 순위-이름을 쌍으로 한 번에 출력하는 코드를 작성하세요.\n",
    "for row in ranking:\n",
    "    print(row[0],'-',row[1])\n",
    "print()\n",
    "\n",
    "#2) 이번 주 득표수가 50만 표가 넘는 참가자의 이름과 이번 주 득표수를 같이 출력하세요.\n",
    "for row in ranking:\n",
    "    if row[2] > 500000:\n",
    "        print(row[1],row[2])\n",
    "print()\n",
    "\n",
    "#3) 지난주보다 득표수가 떨어진 참가자가 누구인지 득표수가 얼마나 떨어졌는지를 출력하세요.\n",
    "for row in ranking:\n",
    "    if (row[3] - row[2]) > 0:\n",
    "        print(row[1], row[3] - row[2])\n",
    "print()\n",
    "#4) 지난주와 이번 주 득표수 중 한 번이라도 80만 표를 넘은 참가자를 출력하세요.\n",
    "for row in ranking:\n",
    "    if row[2] > 800000 or row[3] > 800000:\n",
    "        print(row[1])"
   ]
  }
 ],
 "metadata": {
  "kernelspec": {
   "display_name": "base",
   "language": "python",
   "name": "python3"
  },
  "language_info": {
   "codemirror_mode": {
    "name": "ipython",
    "version": 3
   },
   "file_extension": ".py",
   "mimetype": "text/x-python",
   "name": "python",
   "nbconvert_exporter": "python",
   "pygments_lexer": "ipython3",
   "version": "3.9.13"
  },
  "orig_nbformat": 4,
  "vscode": {
   "interpreter": {
    "hash": "ad2bdc8ecc057115af97d19610ffacc2b4e99fae6737bb82f5d7fb13d2f2c186"
   }
  }
 },
 "nbformat": 4,
 "nbformat_minor": 2
}
